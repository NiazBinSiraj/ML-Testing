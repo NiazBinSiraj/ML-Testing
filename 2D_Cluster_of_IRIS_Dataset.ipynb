{
  "nbformat": 4,
  "nbformat_minor": 0,
  "metadata": {
    "colab": {
      "name": "Cluster 2D.ipynb",
      "provenance": [],
      "collapsed_sections": [],
      "mount_file_id": "1YbXhfCuZEEf5kqUR_WYbPKLsFTphrY6-",
      "authorship_tag": "ABX9TyOXC2sjcvrGidcfpnh6LPuL",
      "include_colab_link": true
    },
    "kernelspec": {
      "name": "python3",
      "display_name": "Python 3"
    },
    "language_info": {
      "name": "python"
    }
  },
  "cells": [
    {
      "cell_type": "markdown",
      "metadata": {
        "id": "view-in-github",
        "colab_type": "text"
      },
      "source": [
        "<a href=\"https://colab.research.google.com/github/NiazBinSiraj/ML-Testing/blob/main/Cluster_2D.ipynb\" target=\"_parent\"><img src=\"https://colab.research.google.com/assets/colab-badge.svg\" alt=\"Open In Colab\"/></a>"
      ]
    },
    {
      "cell_type": "markdown",
      "metadata": {
        "id": "7uFujP2WEt-h"
      },
      "source": [
        "# Loading Libraries\n",
        "\n"
      ]
    },
    {
      "cell_type": "code",
      "metadata": {
        "id": "dCvaE03GPeXm"
      },
      "source": [
        "# Load libraries\n",
        "from pandas import read_csv\n",
        "from matplotlib import pyplot"
      ],
      "execution_count": 20,
      "outputs": []
    },
    {
      "cell_type": "markdown",
      "metadata": {
        "id": "Pr-GPMQAFSQu"
      },
      "source": [
        "# Loading IRIS Dataset"
      ]
    },
    {
      "cell_type": "code",
      "metadata": {
        "id": "7gFhyJzjP12O"
      },
      "source": [
        "# Load dataset\n",
        "url = \"https://raw.githubusercontent.com/jbrownlee/Datasets/master/iris.csv\"\n",
        "names = ['sepal-length', 'sepal-width', 'petal-length', 'petal-width', 'class']\n",
        "dataset = read_csv(url, names=names)"
      ],
      "execution_count": 21,
      "outputs": []
    },
    {
      "cell_type": "markdown",
      "metadata": {
        "id": "BYpmVjKoFYqO"
      },
      "source": [
        "# Viewing Some Data"
      ]
    },
    {
      "cell_type": "code",
      "metadata": {
        "colab": {
          "base_uri": "https://localhost:8080/"
        },
        "id": "ylNEmJ6-P_r9",
        "outputId": "c1870faa-631b-4326-d64e-e2fc8486b16d"
      },
      "source": [
        "print(dataset.shape)\n",
        "print(dataset.head(5))"
      ],
      "execution_count": 22,
      "outputs": [
        {
          "output_type": "stream",
          "text": [
            "(150, 5)\n",
            "   sepal-length  sepal-width  petal-length  petal-width        class\n",
            "0           5.1          3.5           1.4          0.2  Iris-setosa\n",
            "1           4.9          3.0           1.4          0.2  Iris-setosa\n",
            "2           4.7          3.2           1.3          0.2  Iris-setosa\n",
            "3           4.6          3.1           1.5          0.2  Iris-setosa\n",
            "4           5.0          3.6           1.4          0.2  Iris-setosa\n"
          ],
          "name": "stdout"
        }
      ]
    },
    {
      "cell_type": "markdown",
      "metadata": {
        "id": "aBB9Cu54Fqr3"
      },
      "source": [
        "# Class Distribution"
      ]
    },
    {
      "cell_type": "code",
      "metadata": {
        "colab": {
          "base_uri": "https://localhost:8080/"
        },
        "id": "6arOKw4OYHu-",
        "outputId": "a07a8dd6-ef7f-4296-e12a-1f837fb4ea34"
      },
      "source": [
        "# class distribution\n",
        "print(dataset.groupby('class').size())"
      ],
      "execution_count": 23,
      "outputs": [
        {
          "output_type": "stream",
          "text": [
            "class\n",
            "Iris-setosa        50\n",
            "Iris-versicolor    50\n",
            "Iris-virginica     50\n",
            "dtype: int64\n"
          ],
          "name": "stdout"
        }
      ]
    },
    {
      "cell_type": "markdown",
      "metadata": {
        "id": "jOwCU4vwbq07"
      },
      "source": [
        "# Separate Sepal Data"
      ]
    },
    {
      "cell_type": "code",
      "metadata": {
        "colab": {
          "base_uri": "https://localhost:8080/"
        },
        "id": "Grk-4GceUhZl",
        "outputId": "7491566f-a115-4ca0-e344-08555c34e256"
      },
      "source": [
        "irisSetosaSepalLength = []\n",
        "irisSetosaSepalWidth = []\n",
        "\n",
        "irisVersicolorSepalLength = []\n",
        "irisVersicolorSepalWidth = []\n",
        "\n",
        "irisVirginicaSepalLength = []\n",
        "irisVirginicaSepalWidth = []\n",
        "\n",
        "for i in range(150):\n",
        "  if(dataset.values[i][4] == 'Iris-setosa'):\n",
        "    irisSetosaSepalLength.append(dataset.values[i][0])\n",
        "    irisSetosaSepalWidth.append(dataset.values[i][1])\n",
        "  elif(dataset.values[i][4] == 'Iris-versicolor'):\n",
        "    irisVersicolorSepalLength.append(dataset.values[i][0])\n",
        "    irisVersicolorSepalWidth.append(dataset.values[i][1])\n",
        "  elif(dataset.values[i][4] == 'Iris-virginica'):\n",
        "    irisVirginicaSepalLength.append(dataset.values[i][0])\n",
        "    irisVirginicaSepalWidth.append(dataset.values[i][1])\n",
        "\n",
        "\n",
        "print(irisSetosaSepalLength)\n",
        "print(irisSetosaSepalWidth)\n",
        "print(irisVersicolorSepalLength)\n",
        "print(irisVersicolorSepalWidth)\n",
        "print(irisVirginicaSepalLength)\n",
        "print(irisVirginicaSepalWidth)"
      ],
      "execution_count": 24,
      "outputs": [
        {
          "output_type": "stream",
          "text": [
            "[5.1, 4.9, 4.7, 4.6, 5.0, 5.4, 4.6, 5.0, 4.4, 4.9, 5.4, 4.8, 4.8, 4.3, 5.8, 5.7, 5.4, 5.1, 5.7, 5.1, 5.4, 5.1, 4.6, 5.1, 4.8, 5.0, 5.0, 5.2, 5.2, 4.7, 4.8, 5.4, 5.2, 5.5, 4.9, 5.0, 5.5, 4.9, 4.4, 5.1, 5.0, 4.5, 4.4, 5.0, 5.1, 4.8, 5.1, 4.6, 5.3, 5.0]\n",
            "[3.5, 3.0, 3.2, 3.1, 3.6, 3.9, 3.4, 3.4, 2.9, 3.1, 3.7, 3.4, 3.0, 3.0, 4.0, 4.4, 3.9, 3.5, 3.8, 3.8, 3.4, 3.7, 3.6, 3.3, 3.4, 3.0, 3.4, 3.5, 3.4, 3.2, 3.1, 3.4, 4.1, 4.2, 3.1, 3.2, 3.5, 3.1, 3.0, 3.4, 3.5, 2.3, 3.2, 3.5, 3.8, 3.0, 3.8, 3.2, 3.7, 3.3]\n",
            "[7.0, 6.4, 6.9, 5.5, 6.5, 5.7, 6.3, 4.9, 6.6, 5.2, 5.0, 5.9, 6.0, 6.1, 5.6, 6.7, 5.6, 5.8, 6.2, 5.6, 5.9, 6.1, 6.3, 6.1, 6.4, 6.6, 6.8, 6.7, 6.0, 5.7, 5.5, 5.5, 5.8, 6.0, 5.4, 6.0, 6.7, 6.3, 5.6, 5.5, 5.5, 6.1, 5.8, 5.0, 5.6, 5.7, 5.7, 6.2, 5.1, 5.7]\n",
            "[3.2, 3.2, 3.1, 2.3, 2.8, 2.8, 3.3, 2.4, 2.9, 2.7, 2.0, 3.0, 2.2, 2.9, 2.9, 3.1, 3.0, 2.7, 2.2, 2.5, 3.2, 2.8, 2.5, 2.8, 2.9, 3.0, 2.8, 3.0, 2.9, 2.6, 2.4, 2.4, 2.7, 2.7, 3.0, 3.4, 3.1, 2.3, 3.0, 2.5, 2.6, 3.0, 2.6, 2.3, 2.7, 3.0, 2.9, 2.9, 2.5, 2.8]\n",
            "[6.3, 5.8, 7.1, 6.3, 6.5, 7.6, 4.9, 7.3, 6.7, 7.2, 6.5, 6.4, 6.8, 5.7, 5.8, 6.4, 6.5, 7.7, 7.7, 6.0, 6.9, 5.6, 7.7, 6.3, 6.7, 7.2, 6.2, 6.1, 6.4, 7.2, 7.4, 7.9, 6.4, 6.3, 6.1, 7.7, 6.3, 6.4, 6.0, 6.9, 6.7, 6.9, 5.8, 6.8, 6.7, 6.7, 6.3, 6.5, 6.2, 5.9]\n",
            "[3.3, 2.7, 3.0, 2.9, 3.0, 3.0, 2.5, 2.9, 2.5, 3.6, 3.2, 2.7, 3.0, 2.5, 2.8, 3.2, 3.0, 3.8, 2.6, 2.2, 3.2, 2.8, 2.8, 2.7, 3.3, 3.2, 2.8, 3.0, 2.8, 3.0, 2.8, 3.8, 2.8, 2.8, 2.6, 3.0, 3.4, 3.1, 3.0, 3.1, 3.1, 3.1, 2.7, 3.2, 3.3, 3.0, 2.5, 3.0, 3.4, 3.0]\n"
          ],
          "name": "stdout"
        }
      ]
    },
    {
      "cell_type": "markdown",
      "metadata": {
        "id": "B88im4nWbz47"
      },
      "source": [
        "# Separate Petal Data"
      ]
    },
    {
      "cell_type": "code",
      "metadata": {
        "colab": {
          "base_uri": "https://localhost:8080/"
        },
        "id": "PExi9RfA4uEW",
        "outputId": "2230de79-104b-4e89-cc4c-7694a64133de"
      },
      "source": [
        "irisSetosaPetalLength = []\n",
        "irisSetosaPetalWidth = []\n",
        "\n",
        "irisVersicolorPetalLength = []\n",
        "irisVersicolorPetalWidth = []\n",
        "\n",
        "irisVirginicaPetalLength = []\n",
        "irisVirginicaPetalWidth = []\n",
        "\n",
        "for i in range(150):\n",
        "  if(dataset.values[i][4] == 'Iris-setosa'):\n",
        "    irisSetosaPetalLength.append(dataset.values[i][2])\n",
        "    irisSetosaPetalWidth.append(dataset.values[i][3])\n",
        "  elif(dataset.values[i][4] == 'Iris-versicolor'):\n",
        "    irisVersicolorPetalLength.append(dataset.values[i][2])\n",
        "    irisVersicolorPetalWidth.append(dataset.values[i][3])\n",
        "  elif(dataset.values[i][4] == 'Iris-virginica'):\n",
        "    irisVirginicaPetalLength.append(dataset.values[i][2])\n",
        "    irisVirginicaPetalWidth.append(dataset.values[i][3])\n",
        "\n",
        "\n",
        "print(irisSetosaPetalLength)\n",
        "print(irisSetosaPetalWidth)\n",
        "print(irisVersicolorPetalLength)\n",
        "print(irisVersicolorPetalWidth)\n",
        "print(irisVirginicaPetalLength)\n",
        "print(irisVirginicaPetalWidth)"
      ],
      "execution_count": 25,
      "outputs": [
        {
          "output_type": "stream",
          "text": [
            "[1.4, 1.4, 1.3, 1.5, 1.4, 1.7, 1.4, 1.5, 1.4, 1.5, 1.5, 1.6, 1.4, 1.1, 1.2, 1.5, 1.3, 1.4, 1.7, 1.5, 1.7, 1.5, 1.0, 1.7, 1.9, 1.6, 1.6, 1.5, 1.4, 1.6, 1.6, 1.5, 1.5, 1.4, 1.5, 1.2, 1.3, 1.5, 1.3, 1.5, 1.3, 1.3, 1.3, 1.6, 1.9, 1.4, 1.6, 1.4, 1.5, 1.4]\n",
            "[0.2, 0.2, 0.2, 0.2, 0.2, 0.4, 0.3, 0.2, 0.2, 0.1, 0.2, 0.2, 0.1, 0.1, 0.2, 0.4, 0.4, 0.3, 0.3, 0.3, 0.2, 0.4, 0.2, 0.5, 0.2, 0.2, 0.4, 0.2, 0.2, 0.2, 0.2, 0.4, 0.1, 0.2, 0.1, 0.2, 0.2, 0.1, 0.2, 0.2, 0.3, 0.3, 0.2, 0.6, 0.4, 0.3, 0.2, 0.2, 0.2, 0.2]\n",
            "[4.7, 4.5, 4.9, 4.0, 4.6, 4.5, 4.7, 3.3, 4.6, 3.9, 3.5, 4.2, 4.0, 4.7, 3.6, 4.4, 4.5, 4.1, 4.5, 3.9, 4.8, 4.0, 4.9, 4.7, 4.3, 4.4, 4.8, 5.0, 4.5, 3.5, 3.8, 3.7, 3.9, 5.1, 4.5, 4.5, 4.7, 4.4, 4.1, 4.0, 4.4, 4.6, 4.0, 3.3, 4.2, 4.2, 4.2, 4.3, 3.0, 4.1]\n",
            "[1.4, 1.5, 1.5, 1.3, 1.5, 1.3, 1.6, 1.0, 1.3, 1.4, 1.0, 1.5, 1.0, 1.4, 1.3, 1.4, 1.5, 1.0, 1.5, 1.1, 1.8, 1.3, 1.5, 1.2, 1.3, 1.4, 1.4, 1.7, 1.5, 1.0, 1.1, 1.0, 1.2, 1.6, 1.5, 1.6, 1.5, 1.3, 1.3, 1.3, 1.2, 1.4, 1.2, 1.0, 1.3, 1.2, 1.3, 1.3, 1.1, 1.3]\n",
            "[6.0, 5.1, 5.9, 5.6, 5.8, 6.6, 4.5, 6.3, 5.8, 6.1, 5.1, 5.3, 5.5, 5.0, 5.1, 5.3, 5.5, 6.7, 6.9, 5.0, 5.7, 4.9, 6.7, 4.9, 5.7, 6.0, 4.8, 4.9, 5.6, 5.8, 6.1, 6.4, 5.6, 5.1, 5.6, 6.1, 5.6, 5.5, 4.8, 5.4, 5.6, 5.1, 5.1, 5.9, 5.7, 5.2, 5.0, 5.2, 5.4, 5.1]\n",
            "[2.5, 1.9, 2.1, 1.8, 2.2, 2.1, 1.7, 1.8, 1.8, 2.5, 2.0, 1.9, 2.1, 2.0, 2.4, 2.3, 1.8, 2.2, 2.3, 1.5, 2.3, 2.0, 2.0, 1.8, 2.1, 1.8, 1.8, 1.8, 2.1, 1.6, 1.9, 2.0, 2.2, 1.5, 1.4, 2.3, 2.4, 1.8, 1.8, 2.1, 2.4, 2.3, 1.9, 2.3, 2.5, 2.3, 1.9, 2.0, 2.3, 1.8]\n"
          ],
          "name": "stdout"
        }
      ]
    },
    {
      "cell_type": "markdown",
      "metadata": {
        "id": "P7tkMfVTb8OA"
      },
      "source": [
        "# 2D Cluster **(Sepal Length - Sepal Width)**"
      ]
    },
    {
      "cell_type": "code",
      "metadata": {
        "colab": {
          "base_uri": "https://localhost:8080/",
          "height": 285
        },
        "id": "DRdx6XD9Yrc8",
        "outputId": "04a41246-fc13-47b0-8d86-c9e1a02b69af"
      },
      "source": [
        "pyplot.scatter(irisSetosaSepalLength, irisSetosaSepalWidth, color='r')\n",
        "pyplot.scatter(irisVersicolorSepalLength, irisVersicolorSepalWidth, color='g')\n",
        "pyplot.scatter(irisVirginicaSepalLength, irisVirginicaSepalWidth, color='b')"
      ],
      "execution_count": 26,
      "outputs": [
        {
          "output_type": "execute_result",
          "data": {
            "text/plain": [
              "<matplotlib.collections.PathCollection at 0x7fc0232116d0>"
            ]
          },
          "metadata": {
            "tags": []
          },
          "execution_count": 26
        },
        {
          "output_type": "display_data",
          "data": {
            "image/png": "[encoded data removed]",
            "text/plain": [
              "<Figure size 432x288 with 1 Axes>"
            ]
          },
          "metadata": {
            "tags": [],
            "needs_background": "light"
          }
        }
      ]
    },
    {
      "cell_type": "markdown",
      "metadata": {
        "id": "8eeLIDaRcGcx"
      },
      "source": [
        "# 2D Cluster **(Petal Length - Petal Width)**"
      ]
    },
    {
      "cell_type": "code",
      "metadata": {
        "colab": {
          "base_uri": "https://localhost:8080/",
          "height": 282
        },
        "id": "Mxj_ni7naoNb",
        "outputId": "e69d2d78-6898-4d0a-d1a1-cd0a46b27c18"
      },
      "source": [
        "pyplot.scatter(irisSetosaPetalLength, irisSetosaPetalWidth, color='r')\n",
        "pyplot.scatter(irisVersicolorPetalLength, irisVersicolorPetalWidth, color='g')\n",
        "pyplot.scatter(irisVirginicaPetalLength, irisVirginicaPetalWidth, color='b')"
      ],
      "execution_count": 27,
      "outputs": [
        {
          "output_type": "execute_result",
          "data": {
            "text/plain": [
              "<matplotlib.collections.PathCollection at 0x7fc0233c58d0>"
            ]
          },
          "metadata": {
            "tags": []
          },
          "execution_count": 27
        },
        {
          "output_type": "display_data",
          "data": {
            "image/png": "[encoded data removed]",
            "text/plain": [
              "<Figure size 432x288 with 1 Axes>"
            ]
          },
          "metadata": {
            "tags": [],
            "needs_background": "light"
          }
        }
      ]
    },
    {
      "cell_type": "markdown",
      "metadata": {
        "id": "ygPJ1M2GcMNp"
      },
      "source": [
        "# 2D Cluster **(Petal Length - Sepal Width)**"
      ]
    },
    {
      "cell_type": "code",
      "metadata": {
        "colab": {
          "base_uri": "https://localhost:8080/",
          "height": 285
        },
        "id": "UfNOOEpPjbJU",
        "outputId": "8d4dea44-c5b2-4465-abda-ff56b1b7ffd2"
      },
      "source": [
        "pyplot.scatter(irisSetosaPetalLength, irisSetosaSepalWidth, color='r')\n",
        "pyplot.scatter(irisVersicolorPetalLength, irisVersicolorSepalWidth, color='g')\n",
        "pyplot.scatter(irisVirginicaPetalLength, irisVirginicaSepalWidth, color='b')"
      ],
      "execution_count": 28,
      "outputs": [
        {
          "output_type": "execute_result",
          "data": {
            "text/plain": [
              "<matplotlib.collections.PathCollection at 0x7fc0231c7610>"
            ]
          },
          "metadata": {
            "tags": []
          },
          "execution_count": 28
        },
        {
          "output_type": "display_data",
          "data": {
            "image/png": "[encoded data removed]",
            "text/plain": [
              "<Figure size 432x288 with 1 Axes>"
            ]
          },
          "metadata": {
            "tags": [],
            "needs_background": "light"
          }
        }
      ]
    },
    {
      "cell_type": "markdown",
      "metadata": {
        "id": "gG5WD_lDcQsg"
      },
      "source": [
        "# 2D Cluster **(Sepal Length - Petal Width)**"
      ]
    },
    {
      "cell_type": "code",
      "metadata": {
        "colab": {
          "base_uri": "https://localhost:8080/",
          "height": 282
        },
        "id": "U1fRAQF_joms",
        "outputId": "c7230015-e47f-48d6-dfe2-153afe56657b"
      },
      "source": [
        "pyplot.scatter(irisSetosaSepalLength, irisSetosaPetalWidth, color='r')\n",
        "pyplot.scatter(irisVersicolorSepalLength, irisVersicolorPetalWidth, color='g')\n",
        "pyplot.scatter(irisVirginicaSepalLength, irisVirginicaPetalWidth, color='b')"
      ],
      "execution_count": 29,
      "outputs": [
        {
          "output_type": "execute_result",
          "data": {
            "text/plain": [
              "<matplotlib.collections.PathCollection at 0x7fc02310bfd0>"
            ]
          },
          "metadata": {
            "tags": []
          },
          "execution_count": 29
        },
        {
          "output_type": "display_data",
          "data": {
            "image/png": "[encoded data removed]",
            "text/plain": [
              "<Figure size 432x288 with 1 Axes>"
            ]
          },
          "metadata": {
            "tags": [],
            "needs_background": "light"
          }
        }
      ]
    },
    {
      "cell_type": "markdown",
      "metadata": {
        "id": "L8_9YbkjcZiR"
      },
      "source": [
        "# 2D Cluster **(Sepal Length - Petal Length)**"
      ]
    },
    {
      "cell_type": "code",
      "metadata": {
        "colab": {
          "base_uri": "https://localhost:8080/",
          "height": 282
        },
        "id": "RFjRwJBmcdVt",
        "outputId": "5b30ade6-1fd1-4044-fc35-13e83c64fd15"
      },
      "source": [
        "pyplot.scatter(irisSetosaSepalLength, irisSetosaPetalLength, color='r')\n",
        "pyplot.scatter(irisVersicolorSepalLength, irisVersicolorPetalLength, color='g')\n",
        "pyplot.scatter(irisVirginicaSepalLength, irisVirginicaPetalLength, color='b')"
      ],
      "execution_count": 30,
      "outputs": [
        {
          "output_type": "execute_result",
          "data": {
            "text/plain": [
              "<matplotlib.collections.PathCollection at 0x7fc02305b850>"
            ]
          },
          "metadata": {
            "tags": []
          },
          "execution_count": 30
        },
        {
          "output_type": "display_data",
          "data": {
            "image/png": "[encoded data removed]",
            "text/plain": [
              "<Figure size 432x288 with 1 Axes>"
            ]
          },
          "metadata": {
            "tags": [],
            "needs_background": "light"
          }
        }
      ]
    },
    {
      "cell_type": "markdown",
      "metadata": {
        "id": "GYxR6udjd5ib"
      },
      "source": [
        "# 2D Cluster **(Sepal Width - Petal Width)**"
      ]
    },
    {
      "cell_type": "code",
      "metadata": {
        "colab": {
          "base_uri": "https://localhost:8080/",
          "height": 282
        },
        "id": "d-BEGVTnd8Hj",
        "outputId": "ddc6f303-9e33-43f6-b2c4-975f23681f33"
      },
      "source": [
        "pyplot.scatter(irisSetosaSepalWidth, irisSetosaPetalWidth, color='r')\n",
        "pyplot.scatter(irisVersicolorSepalWidth, irisVersicolorPetalWidth, color='g')\n",
        "pyplot.scatter(irisVirginicaSepalWidth, irisVirginicaPetalWidth, color='b')"
      ],
      "execution_count": 33,
      "outputs": [
        {
          "output_type": "execute_result",
          "data": {
            "text/plain": [
              "<matplotlib.collections.PathCollection at 0x7fc022ec2550>"
            ]
          },
          "metadata": {
            "tags": []
          },
          "execution_count": 33
        },
        {
          "output_type": "display_data",
          "data": {
            "image/png": "[encoded data removed]",
            "text/plain": [
              "<Figure size 432x288 with 1 Axes>"
            ]
          },
          "metadata": {
            "tags": [],
            "needs_background": "light"
          }
        }
      ]
    }
  ]
}
