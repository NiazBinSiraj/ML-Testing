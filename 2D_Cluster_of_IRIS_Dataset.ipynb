{
  "nbformat": 4,
  "nbformat_minor": 0,
  "metadata": {
    "colab": {
      "name": "2D_Cluster_of_IRIS_Dataset.ipynb",
      "provenance": [],
      "collapsed_sections": [],
      "mount_file_id": "1YbXhfCuZEEf5kqUR_WYbPKLsFTphrY6-",
      "authorship_tag": "ABX9TyOYiwgKnDZYDZ9xWQ9hufc/",
      "include_colab_link": true
    },
    "kernelspec": {
      "name": "python3",
      "display_name": "Python 3"
    },
    "language_info": {
      "name": "python"
    }
  },
  "cells": [
    {
      "cell_type": "markdown",
      "metadata": {
        "id": "view-in-github",
        "colab_type": "text"
      },
      "source": [
        "<a href=\"https://colab.research.google.com/github/NiazBinSiraj/ML-Testing/blob/main/2D_Cluster_of_IRIS_Dataset.ipynb\" target=\"_parent\"><img src=\"https://colab.research.google.com/assets/colab-badge.svg\" alt=\"Open In Colab\"/></a>"
      ]
    },
    {
      "cell_type": "markdown",
      "metadata": {
        "id": "p6AP6zbVT0dN"
      },
      "source": [
        "# Description\n",
        "\n",
        "In this IRIS dataset there are 4 types of data which can be used to determine the class of the IRIS flower.\n",
        "They are -\n",
        "* Sepal Length\n",
        "* Sepal Width\n",
        "* Petal Length\n",
        "* Petal Width\n",
        "\n",
        "In this program I tried to find if I use any two types of above data what is the maximum accuracy I can achieve by using minimum distance to mean classifire. Also I've ploted the data in a 2d scatter matrix to observe the clusters visually.\n",
        "\n",
        "\n",
        "# Result\n",
        "After the analysis I've found that the maximum accuracy is 96.29629629629629 by using Petal Length and Petal Width."
      ]
    },
    {
      "cell_type": "markdown",
      "metadata": {
        "id": "7uFujP2WEt-h"
      },
      "source": [
        "# Loading Libraries\n",
        "\n"
      ]
    },
    {
      "cell_type": "code",
      "metadata": {
        "id": "dCvaE03GPeXm"
      },
      "source": [
        "# Load libraries\n",
        "from pandas import read_csv\n",
        "from matplotlib import pyplot\n",
        "from numpy import mean\n",
        "from sklearn.metrics import accuracy_score\n",
        "import math"
      ],
      "execution_count": null,
      "outputs": []
    },
    {
      "cell_type": "markdown",
      "metadata": {
        "id": "Pr-GPMQAFSQu"
      },
      "source": [
        "# Loading IRIS Dataset"
      ]
    },
    {
      "cell_type": "code",
      "metadata": {
        "id": "7gFhyJzjP12O"
      },
      "source": [
        "# Load dataset\n",
        "url = \"https://raw.githubusercontent.com/jbrownlee/Datasets/master/iris.csv\"\n",
        "names = ['sepal-length', 'sepal-width', 'petal-length', 'petal-width', 'class']\n",
        "dataset = read_csv(url, names=names)"
      ],
      "execution_count": null,
      "outputs": []
    },
    {
      "cell_type": "markdown",
      "metadata": {
        "id": "BYpmVjKoFYqO"
      },
      "source": [
        "# Viewing Some Data"
      ]
    },
    {
      "cell_type": "code",
      "metadata": {
        "colab": {
          "base_uri": "https://localhost:8080/"
        },
        "id": "ylNEmJ6-P_r9",
        "outputId": "74621723-4440-4be9-e7b1-25cd638f1dc3"
      },
      "source": [
        "  print(dataset.head(5))"
      ],
      "execution_count": null,
      "outputs": [
        {
          "output_type": "stream",
          "text": [
            "   sepal-length  sepal-width  petal-length  petal-width        class\n",
            "0           5.1          3.5           1.4          0.2  Iris-setosa\n",
            "1           4.9          3.0           1.4          0.2  Iris-setosa\n",
            "2           4.7          3.2           1.3          0.2  Iris-setosa\n",
            "3           4.6          3.1           1.5          0.2  Iris-setosa\n",
            "4           5.0          3.6           1.4          0.2  Iris-setosa\n"
          ],
          "name": "stdout"
        }
      ]
    },
    {
      "cell_type": "markdown",
      "metadata": {
        "id": "aBB9Cu54Fqr3"
      },
      "source": [
        "# Class Distribution"
      ]
    },
    {
      "cell_type": "code",
      "metadata": {
        "colab": {
          "base_uri": "https://localhost:8080/"
        },
        "id": "6arOKw4OYHu-",
        "outputId": "473eb99f-d0a4-47d8-f899-cc0e703ee374"
      },
      "source": [
        "# class distribution\n",
        "print(dataset.groupby('class').size())"
      ],
      "execution_count": null,
      "outputs": [
        {
          "output_type": "stream",
          "text": [
            "class\n",
            "Iris-setosa        50\n",
            "Iris-versicolor    50\n",
            "Iris-virginica     50\n",
            "dtype: int64\n"
          ],
          "name": "stdout"
        }
      ]
    },
    {
      "cell_type": "markdown",
      "metadata": {
        "id": "jOwCU4vwbq07"
      },
      "source": [
        "# Separate Sepal Data"
      ]
    },
    {
      "cell_type": "code",
      "metadata": {
        "colab": {
          "base_uri": "https://localhost:8080/"
        },
        "id": "Grk-4GceUhZl",
        "outputId": "ab68f92e-32ac-4fd6-eac4-5e3f92d67f2a"
      },
      "source": [
        "irisSetosaSepalLength = []\n",
        "irisSetosaSepalWidth = []\n",
        "\n",
        "irisVersicolorSepalLength = []\n",
        "irisVersicolorSepalWidth = []\n",
        "\n",
        "irisVirginicaSepalLength = []\n",
        "irisVirginicaSepalWidth = []\n",
        "\n",
        "for i in range(150):\n",
        "  if(dataset.values[i][4] == 'Iris-setosa'):\n",
        "    irisSetosaSepalLength.append(dataset.values[i][0])\n",
        "    irisSetosaSepalWidth.append(dataset.values[i][1])\n",
        "  elif(dataset.values[i][4] == 'Iris-versicolor'):\n",
        "    irisVersicolorSepalLength.append(dataset.values[i][0])\n",
        "    irisVersicolorSepalWidth.append(dataset.values[i][1])\n",
        "  elif(dataset.values[i][4] == 'Iris-virginica'):\n",
        "    irisVirginicaSepalLength.append(dataset.values[i][0])\n",
        "    irisVirginicaSepalWidth.append(dataset.values[i][1])\n",
        "\n",
        "\n",
        "print(irisSetosaSepalLength)\n",
        "print(irisSetosaSepalWidth)\n",
        "print(irisVersicolorSepalLength)\n",
        "print(irisVersicolorSepalWidth)\n",
        "print(irisVirginicaSepalLength)\n",
        "print(irisVirginicaSepalWidth)"
      ],
      "execution_count": null,
      "outputs": [
        {
          "output_type": "stream",
          "text": [
            "[5.1, 4.9, 4.7, 4.6, 5.0, 5.4, 4.6, 5.0, 4.4, 4.9, 5.4, 4.8, 4.8, 4.3, 5.8, 5.7, 5.4, 5.1, 5.7, 5.1, 5.4, 5.1, 4.6, 5.1, 4.8, 5.0, 5.0, 5.2, 5.2, 4.7, 4.8, 5.4, 5.2, 5.5, 4.9, 5.0, 5.5, 4.9, 4.4, 5.1, 5.0, 4.5, 4.4, 5.0, 5.1, 4.8, 5.1, 4.6, 5.3, 5.0]\n",
            "[3.5, 3.0, 3.2, 3.1, 3.6, 3.9, 3.4, 3.4, 2.9, 3.1, 3.7, 3.4, 3.0, 3.0, 4.0, 4.4, 3.9, 3.5, 3.8, 3.8, 3.4, 3.7, 3.6, 3.3, 3.4, 3.0, 3.4, 3.5, 3.4, 3.2, 3.1, 3.4, 4.1, 4.2, 3.1, 3.2, 3.5, 3.1, 3.0, 3.4, 3.5, 2.3, 3.2, 3.5, 3.8, 3.0, 3.8, 3.2, 3.7, 3.3]\n",
            "[7.0, 6.4, 6.9, 5.5, 6.5, 5.7, 6.3, 4.9, 6.6, 5.2, 5.0, 5.9, 6.0, 6.1, 5.6, 6.7, 5.6, 5.8, 6.2, 5.6, 5.9, 6.1, 6.3, 6.1, 6.4, 6.6, 6.8, 6.7, 6.0, 5.7, 5.5, 5.5, 5.8, 6.0, 5.4, 6.0, 6.7, 6.3, 5.6, 5.5, 5.5, 6.1, 5.8, 5.0, 5.6, 5.7, 5.7, 6.2, 5.1, 5.7]\n",
            "[3.2, 3.2, 3.1, 2.3, 2.8, 2.8, 3.3, 2.4, 2.9, 2.7, 2.0, 3.0, 2.2, 2.9, 2.9, 3.1, 3.0, 2.7, 2.2, 2.5, 3.2, 2.8, 2.5, 2.8, 2.9, 3.0, 2.8, 3.0, 2.9, 2.6, 2.4, 2.4, 2.7, 2.7, 3.0, 3.4, 3.1, 2.3, 3.0, 2.5, 2.6, 3.0, 2.6, 2.3, 2.7, 3.0, 2.9, 2.9, 2.5, 2.8]\n",
            "[6.3, 5.8, 7.1, 6.3, 6.5, 7.6, 4.9, 7.3, 6.7, 7.2, 6.5, 6.4, 6.8, 5.7, 5.8, 6.4, 6.5, 7.7, 7.7, 6.0, 6.9, 5.6, 7.7, 6.3, 6.7, 7.2, 6.2, 6.1, 6.4, 7.2, 7.4, 7.9, 6.4, 6.3, 6.1, 7.7, 6.3, 6.4, 6.0, 6.9, 6.7, 6.9, 5.8, 6.8, 6.7, 6.7, 6.3, 6.5, 6.2, 5.9]\n",
            "[3.3, 2.7, 3.0, 2.9, 3.0, 3.0, 2.5, 2.9, 2.5, 3.6, 3.2, 2.7, 3.0, 2.5, 2.8, 3.2, 3.0, 3.8, 2.6, 2.2, 3.2, 2.8, 2.8, 2.7, 3.3, 3.2, 2.8, 3.0, 2.8, 3.0, 2.8, 3.8, 2.8, 2.8, 2.6, 3.0, 3.4, 3.1, 3.0, 3.1, 3.1, 3.1, 2.7, 3.2, 3.3, 3.0, 2.5, 3.0, 3.4, 3.0]\n"
          ],
          "name": "stdout"
        }
      ]
    },
    {
      "cell_type": "markdown",
      "metadata": {
        "id": "B88im4nWbz47"
      },
      "source": [
        "# Separate Petal Data"
      ]
    },
    {
      "cell_type": "code",
      "metadata": {
        "colab": {
          "base_uri": "https://localhost:8080/"
        },
        "id": "PExi9RfA4uEW",
        "outputId": "b14417e6-302f-4a07-dfe5-9a0f16a31749"
      },
      "source": [
        "irisSetosaPetalLength = []\n",
        "irisSetosaPetalWidth = []\n",
        "\n",
        "irisVersicolorPetalLength = []\n",
        "irisVersicolorPetalWidth = []\n",
        "\n",
        "irisVirginicaPetalLength = []\n",
        "irisVirginicaPetalWidth = []\n",
        "\n",
        "for i in range(150):\n",
        "  if(dataset.values[i][4] == 'Iris-setosa'):\n",
        "    irisSetosaPetalLength.append(dataset.values[i][2])\n",
        "    irisSetosaPetalWidth.append(dataset.values[i][3])\n",
        "  elif(dataset.values[i][4] == 'Iris-versicolor'):\n",
        "    irisVersicolorPetalLength.append(dataset.values[i][2])\n",
        "    irisVersicolorPetalWidth.append(dataset.values[i][3])\n",
        "  elif(dataset.values[i][4] == 'Iris-virginica'):\n",
        "    irisVirginicaPetalLength.append(dataset.values[i][2])\n",
        "    irisVirginicaPetalWidth.append(dataset.values[i][3])\n",
        "\n",
        "\n",
        "print(irisSetosaPetalLength)\n",
        "print(irisSetosaPetalWidth)\n",
        "print(irisVersicolorPetalLength)\n",
        "print(irisVersicolorPetalWidth)\n",
        "print(irisVirginicaPetalLength)\n",
        "print(irisVirginicaPetalWidth)"
      ],
      "execution_count": null,
      "outputs": [
        {
          "output_type": "stream",
          "text": [
            "[1.4, 1.4, 1.3, 1.5, 1.4, 1.7, 1.4, 1.5, 1.4, 1.5, 1.5, 1.6, 1.4, 1.1, 1.2, 1.5, 1.3, 1.4, 1.7, 1.5, 1.7, 1.5, 1.0, 1.7, 1.9, 1.6, 1.6, 1.5, 1.4, 1.6, 1.6, 1.5, 1.5, 1.4, 1.5, 1.2, 1.3, 1.5, 1.3, 1.5, 1.3, 1.3, 1.3, 1.6, 1.9, 1.4, 1.6, 1.4, 1.5, 1.4]\n",
            "[0.2, 0.2, 0.2, 0.2, 0.2, 0.4, 0.3, 0.2, 0.2, 0.1, 0.2, 0.2, 0.1, 0.1, 0.2, 0.4, 0.4, 0.3, 0.3, 0.3, 0.2, 0.4, 0.2, 0.5, 0.2, 0.2, 0.4, 0.2, 0.2, 0.2, 0.2, 0.4, 0.1, 0.2, 0.1, 0.2, 0.2, 0.1, 0.2, 0.2, 0.3, 0.3, 0.2, 0.6, 0.4, 0.3, 0.2, 0.2, 0.2, 0.2]\n",
            "[4.7, 4.5, 4.9, 4.0, 4.6, 4.5, 4.7, 3.3, 4.6, 3.9, 3.5, 4.2, 4.0, 4.7, 3.6, 4.4, 4.5, 4.1, 4.5, 3.9, 4.8, 4.0, 4.9, 4.7, 4.3, 4.4, 4.8, 5.0, 4.5, 3.5, 3.8, 3.7, 3.9, 5.1, 4.5, 4.5, 4.7, 4.4, 4.1, 4.0, 4.4, 4.6, 4.0, 3.3, 4.2, 4.2, 4.2, 4.3, 3.0, 4.1]\n",
            "[1.4, 1.5, 1.5, 1.3, 1.5, 1.3, 1.6, 1.0, 1.3, 1.4, 1.0, 1.5, 1.0, 1.4, 1.3, 1.4, 1.5, 1.0, 1.5, 1.1, 1.8, 1.3, 1.5, 1.2, 1.3, 1.4, 1.4, 1.7, 1.5, 1.0, 1.1, 1.0, 1.2, 1.6, 1.5, 1.6, 1.5, 1.3, 1.3, 1.3, 1.2, 1.4, 1.2, 1.0, 1.3, 1.2, 1.3, 1.3, 1.1, 1.3]\n",
            "[6.0, 5.1, 5.9, 5.6, 5.8, 6.6, 4.5, 6.3, 5.8, 6.1, 5.1, 5.3, 5.5, 5.0, 5.1, 5.3, 5.5, 6.7, 6.9, 5.0, 5.7, 4.9, 6.7, 4.9, 5.7, 6.0, 4.8, 4.9, 5.6, 5.8, 6.1, 6.4, 5.6, 5.1, 5.6, 6.1, 5.6, 5.5, 4.8, 5.4, 5.6, 5.1, 5.1, 5.9, 5.7, 5.2, 5.0, 5.2, 5.4, 5.1]\n",
            "[2.5, 1.9, 2.1, 1.8, 2.2, 2.1, 1.7, 1.8, 1.8, 2.5, 2.0, 1.9, 2.1, 2.0, 2.4, 2.3, 1.8, 2.2, 2.3, 1.5, 2.3, 2.0, 2.0, 1.8, 2.1, 1.8, 1.8, 1.8, 2.1, 1.6, 1.9, 2.0, 2.2, 1.5, 1.4, 2.3, 2.4, 1.8, 1.8, 2.1, 2.4, 2.3, 1.9, 2.3, 2.5, 2.3, 1.9, 2.0, 2.3, 1.8]\n"
          ],
          "name": "stdout"
        }
      ]
    },
    {
      "cell_type": "markdown",
      "metadata": {
        "id": "wOGYiptMw6AH"
      },
      "source": [
        "# Create Validation Dataset"
      ]
    },
    {
      "cell_type": "code",
      "metadata": {
        "colab": {
          "base_uri": "https://localhost:8080/"
        },
        "id": "Yeoe5uwYw8hg",
        "outputId": "0f6bc8d3-a03d-4e44-dabb-47312a71d708"
      },
      "source": [
        "validate = []\n",
        "for i in range(32,50):\n",
        "  validate.append(dataset.values[i][4])\n",
        "for i in range(82,100):\n",
        "  validate.append(dataset.values[i][4])\n",
        "for i in range(132,150):\n",
        "  validate.append(dataset.values[i][4])\n",
        "\n",
        "print(validate)"
      ],
      "execution_count": null,
      "outputs": [
        {
          "output_type": "stream",
          "text": [
            "['Iris-setosa', 'Iris-setosa', 'Iris-setosa', 'Iris-setosa', 'Iris-setosa', 'Iris-setosa', 'Iris-setosa', 'Iris-setosa', 'Iris-setosa', 'Iris-setosa', 'Iris-setosa', 'Iris-setosa', 'Iris-setosa', 'Iris-setosa', 'Iris-setosa', 'Iris-setosa', 'Iris-setosa', 'Iris-setosa', 'Iris-versicolor', 'Iris-versicolor', 'Iris-versicolor', 'Iris-versicolor', 'Iris-versicolor', 'Iris-versicolor', 'Iris-versicolor', 'Iris-versicolor', 'Iris-versicolor', 'Iris-versicolor', 'Iris-versicolor', 'Iris-versicolor', 'Iris-versicolor', 'Iris-versicolor', 'Iris-versicolor', 'Iris-versicolor', 'Iris-versicolor', 'Iris-versicolor', 'Iris-virginica', 'Iris-virginica', 'Iris-virginica', 'Iris-virginica', 'Iris-virginica', 'Iris-virginica', 'Iris-virginica', 'Iris-virginica', 'Iris-virginica', 'Iris-virginica', 'Iris-virginica', 'Iris-virginica', 'Iris-virginica', 'Iris-virginica', 'Iris-virginica', 'Iris-virginica', 'Iris-virginica', 'Iris-virginica']\n"
          ],
          "name": "stdout"
        }
      ]
    },
    {
      "cell_type": "markdown",
      "metadata": {
        "id": "jxRLuDjIaSFj"
      },
      "source": [
        "# Create Train Dataset"
      ]
    },
    {
      "cell_type": "code",
      "metadata": {
        "id": "kilThAbGaW23"
      },
      "source": [
        "irisSetosaSepalLength_train = []\n",
        "irisSetosaSepalWidth_train = []\n",
        "irisSetosaPetalLength_train = []\n",
        "irisSetosaPetalWidth_train = []\n",
        "\n",
        "irisVersicolorSepalLength_train = []\n",
        "irisVersicolorSepalWidth_train = []\n",
        "irisVersicolorPetalLength_train = []\n",
        "irisVersicolorPetalWidth_train = []\n",
        "\n",
        "irisVirginicaSepalLength_train = []\n",
        "irisVirginicaSepalWidth_train = []\n",
        "irisVirginicaPetalLength_train = []\n",
        "irisVirginicaPetalWidth_train = []\n",
        "\n",
        "\n",
        "irisSetosaSepalLength_train = irisSetosaSepalLength[0:32]\n",
        "irisSetosaSepalWidth_train = irisSetosaSepalWidth[0:32]\n",
        "irisSetosaPetalLength_train = irisSetosaPetalLength[0:32]\n",
        "irisSetosaPetalWidth_train = irisSetosaPetalWidth[0:32]\n",
        "\n",
        "irisVersicolorSepalLength_train = irisVersicolorSepalLength[0:32]\n",
        "irisVersicolorSepalWidth_train = irisVersicolorSepalWidth[0:32]\n",
        "irisVersicolorPetalLength_train = irisVersicolorPetalLength[0:32]\n",
        "irisVersicolorPetalWidth_train = irisVersicolorPetalWidth[0:32]\n",
        "\n",
        "irisVirginicaSepalLength_train = irisVirginicaSepalLength[0:32]\n",
        "irisVirginicaSepalWidth_train = irisVirginicaSepalWidth[0:32]\n",
        "irisVirginicaPetalLength_train = irisVirginicaPetalLength[0:32]\n",
        "irisVirginicaPetalWidth_train = irisVirginicaPetalWidth[0:32]"
      ],
      "execution_count": null,
      "outputs": []
    },
    {
      "cell_type": "markdown",
      "metadata": {
        "id": "eN5EWTIdRfbQ"
      },
      "source": [
        "# Calculate Arithmetic Mean"
      ]
    },
    {
      "cell_type": "code",
      "metadata": {
        "id": "kbDTZDwqRoC_"
      },
      "source": [
        "irisSetosaSepalLengthMean = mean(irisSetosaSepalLength_train)\n",
        "irisSetosaSepalWidthMean = mean(irisSetosaSepalWidth_train)\n",
        "irisSetosaPetalLengthMean = mean(irisSetosaPetalLength_train)\n",
        "irisSetosaPetalWidthMean = mean(irisSetosaPetalWidth_train)\n",
        "\n",
        "irisVersicolorSepalLengthMean = mean(irisVersicolorSepalLength_train)\n",
        "irisVersicolorSepalWidthMean = mean(irisVersicolorSepalWidth_train)\n",
        "irisVersicolorPetalLengthMean = mean(irisVersicolorPetalLength_train)\n",
        "irisVersicolorPetalWidthMean = mean(irisVersicolorPetalWidth_train)\n",
        "\n",
        "irisVirginicaSepalLengthMean = mean(irisVirginicaSepalLength_train)\n",
        "irisVirginicaSepalWidthMean = mean(irisVirginicaSepalWidth_train)\n",
        "irisVirginicaPetalLengthMean = mean(irisVirginicaPetalLength_train)\n",
        "irisVirginicaPetalWidthMean = mean(irisVirginicaPetalWidth_train)"
      ],
      "execution_count": null,
      "outputs": []
    },
    {
      "cell_type": "markdown",
      "metadata": {
        "id": "P7tkMfVTb8OA"
      },
      "source": [
        "# 2D Cluster **(Sepal Length - Sepal Width)**"
      ]
    },
    {
      "cell_type": "code",
      "metadata": {
        "colab": {
          "base_uri": "https://localhost:8080/",
          "height": 285
        },
        "id": "DRdx6XD9Yrc8",
        "outputId": "dc580069-62f5-44cf-919b-7b7804aef289"
      },
      "source": [
        "pyplot.scatter(irisSetosaSepalLength_train, irisSetosaSepalWidth_train, color='r')\n",
        "pyplot.scatter(irisSetosaSepalLengthMean, irisSetosaSepalWidthMean, c='black', s=200, alpha=0.5)\n",
        "\n",
        "pyplot.scatter(irisVersicolorSepalLength_train, irisVersicolorSepalWidth_train, color='g')\n",
        "pyplot.scatter(irisVersicolorSepalLengthMean, irisVersicolorSepalWidthMean, c='black', s=200, alpha=0.5)\n",
        "\n",
        "pyplot.scatter(irisVirginicaSepalLength_train, irisVirginicaSepalWidth_train, color='b')\n",
        "pyplot.scatter(irisVirginicaSepalLengthMean, irisVirginicaSepalWidthMean, c='black', s=200, alpha=0.5)\n"
      ],
      "execution_count": null,
      "outputs": [
        {
          "output_type": "execute_result",
          "data": {
            "text/plain": [
              "<matplotlib.collections.PathCollection at 0x7f1e1ac693d0>"
            ]
          },
          "metadata": {
            "tags": []
          },
          "execution_count": 91
        },
        {
          "output_type": "display_data",
          "data": {
            "image/png": "[encoded data removed]",
            "text/plain": [
              "<Figure size 432x288 with 1 Axes>"
            ]
          },
          "metadata": {
            "tags": [],
            "needs_background": "light"
          }
        }
      ]
    },
    {
      "cell_type": "markdown",
      "metadata": {
        "id": "8eeLIDaRcGcx"
      },
      "source": [
        "# 2D Cluster **(Petal Length - Petal Width)**"
      ]
    },
    {
      "cell_type": "code",
      "metadata": {
        "colab": {
          "base_uri": "https://localhost:8080/",
          "height": 282
        },
        "id": "Mxj_ni7naoNb",
        "outputId": "6bf8b242-de87-464f-c06e-36c81ab07fba"
      },
      "source": [
        "pyplot.scatter(irisSetosaPetalLength_train, irisSetosaPetalWidth_train, color='r')\n",
        "pyplot.scatter(irisSetosaPetalLengthMean, irisSetosaPetalWidthMean, c='black', s=200, alpha=0.5)\n",
        "\n",
        "pyplot.scatter(irisVersicolorPetalLength_train, irisVersicolorPetalWidth_train, color='g')\n",
        "pyplot.scatter(irisVersicolorPetalLengthMean, irisVersicolorPetalWidthMean, c='black', s=200, alpha=0.5)\n",
        "\n",
        "pyplot.scatter(irisVirginicaPetalLength_train, irisVirginicaPetalWidth_train, color='b')\n",
        "pyplot.scatter(irisVirginicaPetalLengthMean, irisVirginicaPetalWidthMean, c='black', s=200, alpha=0.5)"
      ],
      "execution_count": null,
      "outputs": [
        {
          "output_type": "execute_result",
          "data": {
            "text/plain": [
              "<matplotlib.collections.PathCollection at 0x7f1e1abde190>"
            ]
          },
          "metadata": {
            "tags": []
          },
          "execution_count": 92
        },
        {
          "output_type": "display_data",
          "data": {
            "image/png": "[encoded data removed]",
            "text/plain": [
              "<Figure size 432x288 with 1 Axes>"
            ]
          },
          "metadata": {
            "tags": [],
            "needs_background": "light"
          }
        }
      ]
    },
    {
      "cell_type": "markdown",
      "metadata": {
        "id": "ygPJ1M2GcMNp"
      },
      "source": [
        "# 2D Cluster **(Petal Length - Sepal Width)**"
      ]
    },
    {
      "cell_type": "code",
      "metadata": {
        "colab": {
          "base_uri": "https://localhost:8080/",
          "height": 285
        },
        "id": "UfNOOEpPjbJU",
        "outputId": "d21669bf-e6a9-4c41-e347-d0215416fde9"
      },
      "source": [
        "pyplot.scatter(irisSetosaPetalLength_train, irisSetosaSepalWidth_train, color='r')\n",
        "pyplot.scatter(irisSetosaPetalLengthMean, irisSetosaSepalWidthMean, c='black', s=200, alpha=0.5)\n",
        "\n",
        "pyplot.scatter(irisVersicolorPetalLength_train, irisVersicolorSepalWidth_train, color='g')\n",
        "pyplot.scatter(irisVersicolorPetalLengthMean, irisVersicolorSepalWidthMean, c='black', s=200, alpha=0.5)\n",
        "\n",
        "pyplot.scatter(irisVirginicaPetalLength_train, irisVirginicaSepalWidth_train, color='b')\n",
        "pyplot.scatter(irisVirginicaPetalLengthMean, irisVirginicaSepalWidthMean, c='black', s=200, alpha=0.5)"
      ],
      "execution_count": null,
      "outputs": [
        {
          "output_type": "execute_result",
          "data": {
            "text/plain": [
              "<matplotlib.collections.PathCollection at 0x7f1e1abd33d0>"
            ]
          },
          "metadata": {
            "tags": []
          },
          "execution_count": 93
        },
        {
          "output_type": "display_data",
          "data": {
            "image/png": "[encoded data removed]",
            "text/plain": [
              "<Figure size 432x288 with 1 Axes>"
            ]
          },
          "metadata": {
            "tags": [],
            "needs_background": "light"
          }
        }
      ]
    },
    {
      "cell_type": "markdown",
      "metadata": {
        "id": "gG5WD_lDcQsg"
      },
      "source": [
        "# 2D Cluster **(Sepal Length - Petal Width)**"
      ]
    },
    {
      "cell_type": "code",
      "metadata": {
        "colab": {
          "base_uri": "https://localhost:8080/",
          "height": 282
        },
        "id": "U1fRAQF_joms",
        "outputId": "073f224e-858e-46ed-d91a-d5298dce70df"
      },
      "source": [
        "pyplot.scatter(irisSetosaSepalLength_train, irisSetosaPetalWidth_train, color='r')\n",
        "pyplot.scatter(irisSetosaSepalLengthMean, irisSetosaPetalWidthMean, c='black', s=200, alpha=0.5)\n",
        "\n",
        "pyplot.scatter(irisVersicolorSepalLength_train, irisVersicolorPetalWidth_train, color='g')\n",
        "pyplot.scatter(irisVersicolorSepalLengthMean, irisVersicolorPetalWidthMean, c='black', s=200, alpha=0.5)\n",
        "\n",
        "pyplot.scatter(irisVirginicaSepalLength_train, irisVirginicaPetalWidth_train, color='b')\n",
        "pyplot.scatter(irisVirginicaSepalLengthMean, irisVirginicaPetalWidthMean, c='black', s=200, alpha=0.5)"
      ],
      "execution_count": null,
      "outputs": [
        {
          "output_type": "execute_result",
          "data": {
            "text/plain": [
              "<matplotlib.collections.PathCollection at 0x7f1e1ab4b5d0>"
            ]
          },
          "metadata": {
            "tags": []
          },
          "execution_count": 94
        },
        {
          "output_type": "display_data",
          "data": {
            "image/png": "[encoded data removed]",
            "text/plain": [
              "<Figure size 432x288 with 1 Axes>"
            ]
          },
          "metadata": {
            "tags": [],
            "needs_background": "light"
          }
        }
      ]
    },
    {
      "cell_type": "markdown",
      "metadata": {
        "id": "L8_9YbkjcZiR"
      },
      "source": [
        "# 2D Cluster **(Sepal Length - Petal Length)**"
      ]
    },
    {
      "cell_type": "code",
      "metadata": {
        "colab": {
          "base_uri": "https://localhost:8080/",
          "height": 282
        },
        "id": "RFjRwJBmcdVt",
        "outputId": "223ea8bb-def3-4768-d3e8-2db6bc6ff44a"
      },
      "source": [
        "pyplot.scatter(irisSetosaSepalLength_train, irisSetosaPetalLength_train, color='r')\n",
        "pyplot.scatter(irisSetosaSepalLengthMean, irisSetosaPetalLengthMean, c='black', s=200, alpha=0.5)\n",
        "\n",
        "pyplot.scatter(irisVersicolorSepalLength_train, irisVersicolorPetalLength_train, color='g')\n",
        "pyplot.scatter(irisVersicolorSepalLengthMean, irisVersicolorPetalLengthMean, c='black', s=200, alpha=0.5)\n",
        "\n",
        "pyplot.scatter(irisVirginicaSepalLength_train, irisVirginicaPetalLength_train, color='b')\n",
        "pyplot.scatter(irisVirginicaSepalLengthMean, irisVirginicaPetalLengthMean, c='black', s=200, alpha=0.5)"
      ],
      "execution_count": null,
      "outputs": [
        {
          "output_type": "execute_result",
          "data": {
            "text/plain": [
              "<matplotlib.collections.PathCollection at 0x7f1e1aac8190>"
            ]
          },
          "metadata": {
            "tags": []
          },
          "execution_count": 95
        },
        {
          "output_type": "display_data",
          "data": {
            "image/png": "[encoded data removed]",
            "text/plain": [
              "<Figure size 432x288 with 1 Axes>"
            ]
          },
          "metadata": {
            "tags": [],
            "needs_background": "light"
          }
        }
      ]
    },
    {
      "cell_type": "markdown",
      "metadata": {
        "id": "GYxR6udjd5ib"
      },
      "source": [
        "# 2D Cluster **(Sepal Width - Petal Width)**"
      ]
    },
    {
      "cell_type": "code",
      "metadata": {
        "colab": {
          "base_uri": "https://localhost:8080/",
          "height": 282
        },
        "id": "d-BEGVTnd8Hj",
        "outputId": "ce049dcf-a106-4624-d59c-10306954ee0c"
      },
      "source": [
        "pyplot.scatter(irisSetosaSepalWidth_train, irisSetosaPetalWidth_train, color='r')\n",
        "pyplot.scatter(irisSetosaSepalWidthMean, irisSetosaPetalWidthMean, c='black', s=200, alpha=0.5)\n",
        "\n",
        "pyplot.scatter(irisVersicolorSepalWidth_train, irisVersicolorPetalWidth_train, color='g')\n",
        "pyplot.scatter(irisVersicolorSepalWidthMean, irisVersicolorPetalWidthMean, c='black', s=200, alpha=0.5)\n",
        "\n",
        "pyplot.scatter(irisVirginicaSepalWidth_train, irisVirginicaPetalWidth_train, color='b')\n",
        "pyplot.scatter(irisVirginicaSepalWidthMean, irisVirginicaPetalWidthMean, c='black', s=200, alpha=0.5)"
      ],
      "execution_count": null,
      "outputs": [
        {
          "output_type": "execute_result",
          "data": {
            "text/plain": [
              "<matplotlib.collections.PathCollection at 0x7f1e1ac7a410>"
            ]
          },
          "metadata": {
            "tags": []
          },
          "execution_count": 96
        },
        {
          "output_type": "display_data",
          "data": {
            "image/png": "[encoded data removed]",
            "text/plain": [
              "<Figure size 432x288 with 1 Axes>"
            ]
          },
          "metadata": {
            "tags": [],
            "needs_background": "light"
          }
        }
      ]
    },
    {
      "cell_type": "markdown",
      "metadata": {
        "id": "J2vCK9hihTnO"
      },
      "source": [
        "# Define Predictor"
      ]
    },
    {
      "cell_type": "code",
      "metadata": {
        "id": "ttdLi04hhVe6"
      },
      "source": [
        "def dist(x1,y1,x2,y2):\n",
        "  return math.sqrt((x2 - x1)**2 + (y2 - y1)**2)\n",
        "\n",
        "\n",
        "def predictIrisClass(x,y, type):\n",
        "  if(type == \"SL_SW\"):\n",
        "    dis_setosa = dist(x,y,irisSetosaSepalLengthMean, irisSetosaSepalWidthMean)\n",
        "    dis_virginica = dist(x,y, irisVirginicaSepalLengthMean, irisVirginicaSepalWidthMean)\n",
        "    dis_versicolor = dist(x,y, irisVersicolorSepalLengthMean, irisVersicolorSepalWidthMean)\n",
        "    if(dis_setosa < dis_virginica and dis_setosa < dis_versicolor):\n",
        "      return \"Iris-setosa\"\n",
        "    elif(dis_virginica < dis_setosa and dis_virginica < dis_versicolor):\n",
        "      return \"Iris-virginica\"\n",
        "    else:\n",
        "      return \"Iris-versicolor\"\n",
        "\n",
        "  elif(type == \"PL_PW\"):\n",
        "    dis_setosa = dist(x,y,irisSetosaPetalLengthMean, irisSetosaPetalWidthMean)\n",
        "    dis_virginica = dist(x,y, irisVirginicaPetalLengthMean, irisVirginicaPetalWidthMean)\n",
        "    dis_versicolor = dist(x,y, irisVersicolorPetalLengthMean, irisVersicolorPetalWidthMean)\n",
        "    if(dis_setosa < dis_virginica and dis_setosa < dis_versicolor):\n",
        "      return \"Iris-setosa\"\n",
        "    elif(dis_virginica < dis_setosa and dis_virginica < dis_versicolor):\n",
        "      return \"Iris-virginica\"\n",
        "    else:\n",
        "      return \"Iris-versicolor\"\n",
        "\n",
        "  elif(type == \"PL_SW\"):\n",
        "    dis_setosa = dist(x,y,irisSetosaPetalLengthMean, irisSetosaSepalWidthMean)\n",
        "    dis_virginica = dist(x,y, irisVirginicaPetalLengthMean, irisVirginicaSepalWidthMean)\n",
        "    dis_versicolor = dist(x,y, irisVersicolorPetalLengthMean, irisVersicolorSepalWidthMean)\n",
        "    if(dis_setosa < dis_virginica and dis_setosa < dis_versicolor):\n",
        "      return \"Iris-setosa\"\n",
        "    elif(dis_virginica < dis_setosa and dis_virginica < dis_versicolor):\n",
        "      return \"Iris-virginica\"\n",
        "    else:\n",
        "      return \"Iris-versicolor\"\n",
        "\n",
        "  elif(type == \"SL_PW\"):\n",
        "    dis_setosa = dist(x,y,irisSetosaSepalLengthMean, irisSetosaPetalWidthMean)\n",
        "    dis_virginica = dist(x,y, irisVirginicaSepalLengthMean, irisVirginicaPetalWidthMean)\n",
        "    dis_versicolor = dist(x,y, irisVersicolorSepalLengthMean, irisVersicolorPetalWidthMean)\n",
        "    if(dis_setosa < dis_virginica and dis_setosa < dis_versicolor):\n",
        "      return \"Iris-setosa\"\n",
        "    elif(dis_virginica < dis_setosa and dis_virginica < dis_versicolor):\n",
        "      return \"Iris-virginica\"\n",
        "    else:\n",
        "      return \"Iris-versicolor\"\n",
        "\n",
        "  elif(type == \"SL_PL\"):\n",
        "    dis_setosa = dist(x,y,irisSetosaSepalLengthMean, irisSetosaPetalLengthMean)\n",
        "    dis_virginica = dist(x,y, irisVirginicaSepalLengthMean, irisVirginicaPetalLengthMean)\n",
        "    dis_versicolor = dist(x,y, irisVersicolorSepalLengthMean, irisVersicolorPetalLengthMean)\n",
        "    if(dis_setosa < dis_virginica and dis_setosa < dis_versicolor):\n",
        "      return \"Iris-setosa\"\n",
        "    elif(dis_virginica < dis_setosa and dis_virginica < dis_versicolor):\n",
        "      return \"Iris-virginica\"\n",
        "    else:\n",
        "      return \"Iris-versicolor\"\n",
        "\n",
        "  elif(type == \"SW_PW\"):\n",
        "    dis_setosa = dist(x,y,irisSetosaSepalWidthMean, irisSetosaPetalWidthMean)\n",
        "    dis_virginica = dist(x,y, irisVirginicaSepalWidthMean, irisVirginicaPetalWidthMean)\n",
        "    dis_versicolor = dist(x,y, irisVersicolorSepalWidthMean, irisVersicolorPetalWidthMean)\n",
        "    if(dis_setosa < dis_virginica and dis_setosa < dis_versicolor):\n",
        "      return \"Iris-setosa\"\n",
        "    elif(dis_virginica < dis_setosa and dis_virginica < dis_versicolor):\n",
        "      return \"Iris-virginica\"\n",
        "    else:\n",
        "      return \"Iris-versicolor\"\n",
        "  \n",
        "  else:\n",
        "    return \"Invalid Type\""
      ],
      "execution_count": null,
      "outputs": []
    },
    {
      "cell_type": "markdown",
      "metadata": {
        "id": "G-eTMGhVhx6y"
      },
      "source": [
        "# Make Prediction using (Sepal Length, Sepal Width)"
      ]
    },
    {
      "cell_type": "code",
      "metadata": {
        "id": "u-sI-RovhlxY"
      },
      "source": [
        "prediction_SL_SW = []\n",
        "\n",
        "for i in range(32,50):\n",
        "  prediction_SL_SW.append(predictIrisClass(dataset.values[i][0], dataset.values[i][1], \"SL_SW\"))\n",
        "for i in range(82,100):\n",
        "  prediction_SL_SW.append(predictIrisClass(dataset.values[i][0], dataset.values[i][1], \"SL_SW\"))\n",
        "for i in range(132,150):\n",
        "  prediction_SL_SW.append(predictIrisClass(dataset.values[i][0], dataset.values[i][1], \"SL_SW\"))"
      ],
      "execution_count": null,
      "outputs": []
    },
    {
      "cell_type": "markdown",
      "metadata": {
        "id": "dCCQzaeWlPlv"
      },
      "source": [
        "# Make Prediction using (Petal Length, Petal Width)"
      ]
    },
    {
      "cell_type": "code",
      "metadata": {
        "id": "IWXUQ7UalXr-"
      },
      "source": [
        "prediction_PL_PW = []\n",
        "\n",
        "for i in range(32,50):\n",
        "  prediction_PL_PW.append(predictIrisClass(dataset.values[i][2], dataset.values[i][3], \"PL_PW\"))\n",
        "for i in range(82,100):\n",
        "  prediction_PL_PW.append(predictIrisClass(dataset.values[i][2], dataset.values[i][3], \"PL_PW\"))\n",
        "for i in range(132,150):\n",
        "  prediction_PL_PW.append(predictIrisClass(dataset.values[i][2], dataset.values[i][3], \"PL_PW\"))"
      ],
      "execution_count": null,
      "outputs": []
    },
    {
      "cell_type": "markdown",
      "metadata": {
        "id": "-IM3H56xluc0"
      },
      "source": [
        "# Make Prediction using (Petal Length, Sepal Width)"
      ]
    },
    {
      "cell_type": "code",
      "metadata": {
        "id": "ZIVSg3gAlwmn"
      },
      "source": [
        "prediction_PL_SW = []\n",
        "\n",
        "for i in range(32,50):\n",
        "  prediction_PL_SW.append(predictIrisClass(dataset.values[i][2], dataset.values[i][1], \"PL_SW\"))\n",
        "for i in range(82,100):\n",
        "  prediction_PL_SW.append(predictIrisClass(dataset.values[i][2], dataset.values[i][1], \"PL_SW\"))\n",
        "for i in range(132,150):\n",
        "  prediction_PL_SW.append(predictIrisClass(dataset.values[i][2], dataset.values[i][1], \"PL_SW\"))"
      ],
      "execution_count": null,
      "outputs": []
    },
    {
      "cell_type": "markdown",
      "metadata": {
        "id": "K7Stur0ql_A8"
      },
      "source": [
        "# Make Prediction using (Sepal Length, Petal Width)"
      ]
    },
    {
      "cell_type": "code",
      "metadata": {
        "id": "-3Y9dzCymBjU"
      },
      "source": [
        "prediction_SL_PW = []\n",
        "\n",
        "for i in range(32,50):\n",
        "  prediction_SL_PW.append(predictIrisClass(dataset.values[i][0], dataset.values[i][3], \"SL_PW\"))\n",
        "for i in range(82,100):\n",
        "  prediction_SL_PW.append(predictIrisClass(dataset.values[i][0], dataset.values[i][3], \"SL_PW\"))\n",
        "for i in range(132,150):\n",
        "  prediction_SL_PW.append(predictIrisClass(dataset.values[i][0], dataset.values[i][3], \"SL_PW\"))"
      ],
      "execution_count": null,
      "outputs": []
    },
    {
      "cell_type": "markdown",
      "metadata": {
        "id": "CBAxuI5DmUgN"
      },
      "source": [
        "# Make Prediction using (Sepal Length, Petal Length)"
      ]
    },
    {
      "cell_type": "code",
      "metadata": {
        "id": "DF-EI_TmmW3t"
      },
      "source": [
        "prediction_SL_PL = []\n",
        "\n",
        "for i in range(32,50):\n",
        "  prediction_SL_PL.append(predictIrisClass(dataset.values[i][0], dataset.values[i][2], \"SL_PL\"))\n",
        "for i in range(82,100):\n",
        "  prediction_SL_PL.append(predictIrisClass(dataset.values[i][0], dataset.values[i][2], \"SL_PL\"))\n",
        "for i in range(132,150):\n",
        "  prediction_SL_PL.append(predictIrisClass(dataset.values[i][0], dataset.values[i][2], \"SL_PL\"))"
      ],
      "execution_count": null,
      "outputs": []
    },
    {
      "cell_type": "markdown",
      "metadata": {
        "id": "-YEW4bbTnsKF"
      },
      "source": [
        "# Make Prediction using (Sepal Width, Petal Width)"
      ]
    },
    {
      "cell_type": "code",
      "metadata": {
        "id": "AEP41l6NnuJE"
      },
      "source": [
        "prediction_SW_PW = []\n",
        "\n",
        "for i in range(32,50):\n",
        "  prediction_SW_PW.append(predictIrisClass(dataset.values[i][1], dataset.values[i][3], \"SW_PW\"))\n",
        "for i in range(82,100):\n",
        "  prediction_SW_PW.append(predictIrisClass(dataset.values[i][1], dataset.values[i][3], \"SW_PW\"))\n",
        "for i in range(132,150):\n",
        "  prediction_SW_PW.append(predictIrisClass(dataset.values[i][1], dataset.values[i][3], \"SW_PW\"))"
      ],
      "execution_count": null,
      "outputs": []
    },
    {
      "cell_type": "markdown",
      "metadata": {
        "id": "c6N5tdzHpZVj"
      },
      "source": [
        "# Evaluate Predictions"
      ]
    },
    {
      "cell_type": "code",
      "metadata": {
        "colab": {
          "base_uri": "https://localhost:8080/"
        },
        "id": "IfDFhXPxrVg2",
        "outputId": "db2db9f9-6a00-4ed4-d3f6-e2de0ea4d73d"
      },
      "source": [
        "print(\"Accuracy by using Sepal Length - Sepal Width : \", accuracy_score(prediction_SL_SW,validate) * 100)\n",
        "print(\"Accuracy by using Petal Length - Petal Width : \", accuracy_score(prediction_PL_PW,validate) * 100)\n",
        "print(\"Accuracy by using Petal Length - Sepal Width : \", accuracy_score(prediction_PL_SW,validate) * 100)\n",
        "print(\"Accuracy by using Sepal Length - Petal Width : \", accuracy_score(prediction_SL_PW,validate) * 100)\n",
        "print(\"Accuracy by using Sepal Length - Petal Length : \", accuracy_score(prediction_SL_PL,validate) * 100)\n",
        "print(\"Accuracy by using Sepal Width - Petal Width : \", accuracy_score(prediction_SW_PW,validate) * 100)"
      ],
      "execution_count": null,
      "outputs": [
        {
          "output_type": "stream",
          "text": [
            "Accuracy by using Sepal Length - Sepal Width :  83.33333333333334\n",
            "Accuracy by using Petal Length - Petal Width :  96.29629629629629\n",
            "Accuracy by using Petal Length - Sepal Width :  94.44444444444444\n",
            "Accuracy by using Sepal Length - Petal Width :  85.18518518518519\n",
            "Accuracy by using Sepal Length - Petal Length :  92.5925925925926\n",
            "Accuracy by using Sepal Width - Petal Width :  92.5925925925926\n"
          ],
          "name": "stdout"
        }
      ]
    }
  ]
}